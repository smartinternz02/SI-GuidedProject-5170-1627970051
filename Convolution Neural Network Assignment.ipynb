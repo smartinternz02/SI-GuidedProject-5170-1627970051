{
 "cells": [
  {
   "cell_type": "markdown",
   "metadata": {},
   "source": [
    "A convolutional neural network is a deep learning algorithm that can take in an input image, assign impportance (learnable weights and biases) to various aspects/objects in the image, and be able to differentiate one from the other."
   ]
  },
  {
   "cell_type": "markdown",
   "metadata": {},
   "source": [
    "importing the libraries\n",
    "pre process the image\n",
    "    augmenting the image feature, image data generator\n",
    "    library\n",
    "    load dataset\n",
    "    apply augmented feature o train set and test set\n",
    "import libs\n",
    "initializing the model\n",
    "add convolution layer\n",
    "add pool\n",
    "add flatten\n",
    "denses - hidden\n",
    "op\n",
    "configure your learning \n",
    "fit the data\n",
    "save the model\n",
    "\n",
    "test the model\n",
    "load the saved model\n",
    "load the image\n",
    "preprocess the loaded image\n",
    "obtain the prediction\n"
   ]
  },
  {
   "cell_type": "code",
   "execution_count": null,
   "metadata": {},
   "outputs": [],
   "source": [
    "Lung Cancer Disease\n",
    "Dataset\n",
    "        Test Set\n",
    "                 Cancerous - 30\n",
    "                 Non Cancerous - 70\n",
    "        Train Set\n",
    "                 Cancerous - 70\n",
    "                 Non Cancerous - 70\n",
    "Object Classification\n",
    "Chairs\n",
    "Pens\n",
    "Table\n",
    "Pencil"
   ]
  },
  {
   "cell_type": "code",
   "execution_count": 3,
   "metadata": {},
   "outputs": [],
   "source": [
    "from tensorflow.keras.models import Sequential\n",
    "from tensorflow.keras.layers import Dense\n",
    "from tensorflow.keras.layers import Convolution2D\n",
    "from tensorflow.keras.layers import MaxPooling2D\n",
    "from tensorflow.keras.layers import Flatten"
   ]
  },
  {
   "cell_type": "code",
   "execution_count": 6,
   "metadata": {},
   "outputs": [],
   "source": [
    "from tensorflow.keras.preprocessing.image import ImageDataGenerator\n",
    "train_datagen = ImageDataGenerator(rescale = 1./255,shear_range = 0.2,zoom_range = 0.2,horizontal_flip = True)\n",
    "test_datagen = ImageDataGenerator(rescale = 1./255)"
   ]
  },
  {
   "cell_type": "code",
   "execution_count": 7,
   "metadata": {},
   "outputs": [
    {
     "name": "stdout",
     "output_type": "stream",
     "text": [
      "Found 1495 images belonging to 5 classes.\n",
      "Found 640 images belonging to 5 classes.\n"
     ]
    }
   ],
   "source": [
    "x_train = train_datagen.flow_from_directory(r\"C:\\Users\\giris\\Desktop\\AI IBM\\Crop-animal data\\Crop-animal data\\trainset\",target_size = (64,64),batch_size = 32,class_mode = \"categorical\")\n",
    "x_test = test_datagen.flow_from_directory(r\"C:\\Users\\giris\\Desktop\\AI IBM\\Crop-animal data\\Crop-animal data\\testset\",target_size = (64,64),batch_size = 32,class_mode = \"categorical\")"
   ]
  },
  {
   "cell_type": "code",
   "execution_count": 8,
   "metadata": {},
   "outputs": [
    {
     "data": {
      "text/plain": [
       "{'bears': 0, 'crows': 1, 'elephants': 2, 'racoons': 3, 'rats': 4}"
      ]
     },
     "execution_count": 8,
     "metadata": {},
     "output_type": "execute_result"
    }
   ],
   "source": [
    "x_train.class_indices"
   ]
  },
  {
   "cell_type": "code",
   "execution_count": 9,
   "metadata": {},
   "outputs": [],
   "source": [
    "model = Sequential()"
   ]
  },
  {
   "cell_type": "code",
   "execution_count": 10,
   "metadata": {},
   "outputs": [
    {
     "name": "stdout",
     "output_type": "stream",
     "text": [
      "WARNING:tensorflow:From C:\\Users\\giris\\Anaconda3\\lib\\site-packages\\tensorflow\\python\\ops\\init_ops.py:1251: calling VarianceScaling.__init__ (from tensorflow.python.ops.init_ops) with dtype is deprecated and will be removed in a future version.\n",
      "Instructions for updating:\n",
      "Call initializer instance with the dtype argument instead of passing it to the constructor\n"
     ]
    }
   ],
   "source": [
    "model.add(Convolution2D(32,(3,3),input_shape = (64,64,3),activation = \"relu\"))"
   ]
  },
  {
   "cell_type": "code",
   "execution_count": 11,
   "metadata": {},
   "outputs": [],
   "source": [
    "model.add(MaxPooling2D(pool_size = (2,2)))"
   ]
  },
  {
   "cell_type": "code",
   "execution_count": 12,
   "metadata": {},
   "outputs": [],
   "source": [
    "model.add(Flatten()) #input layer of Ann"
   ]
  },
  {
   "cell_type": "code",
   "execution_count": 13,
   "metadata": {},
   "outputs": [
    {
     "name": "stdout",
     "output_type": "stream",
     "text": [
      "WARNING:tensorflow:From C:\\Users\\giris\\Anaconda3\\lib\\site-packages\\tensorflow\\python\\keras\\initializers.py:119: calling RandomUniform.__init__ (from tensorflow.python.ops.init_ops) with dtype is deprecated and will be removed in a future version.\n",
      "Instructions for updating:\n",
      "Call initializer instance with the dtype argument instead of passing it to the constructor\n"
     ]
    }
   ],
   "source": [
    "model.add(Dense(units = 128,kernel_initializer = \"random_uniform\",activation = \"relu\"))"
   ]
  },
  {
   "cell_type": "code",
   "execution_count": 14,
   "metadata": {},
   "outputs": [],
   "source": [
    "model.add(Dense(units = 128,kernel_initializer = \"random_uniform\",activation = \"relu\"))"
   ]
  },
  {
   "cell_type": "code",
   "execution_count": 15,
   "metadata": {},
   "outputs": [],
   "source": [
    "model.add(Dense(units = 5,kernel_initializer = \"random_uniform\",activation = \"softmax\"))"
   ]
  },
  {
   "cell_type": "code",
   "execution_count": 16,
   "metadata": {},
   "outputs": [],
   "source": [
    "model.compile(loss = \"categorical_crossentropy\",optimizer=\"adam\",metrics = [\"accuracy\"])"
   ]
  },
  {
   "cell_type": "code",
   "execution_count": 18,
   "metadata": {},
   "outputs": [
    {
     "name": "stdout",
     "output_type": "stream",
     "text": [
      "Epoch 1/25\n",
      "46/46 [==============================] - 14s 300ms/step - loss: 1.5810 - acc: 0.2673 - val_loss: 1.3876 - val_acc: 0.5766\n",
      "Epoch 2/25\n",
      "46/46 [==============================] - 8s 168ms/step - loss: 1.3890 - acc: 0.4238 - val_loss: 1.3382 - val_acc: 0.4672\n",
      "Epoch 3/25\n",
      "46/46 [==============================] - 7s 160ms/step - loss: 1.1914 - acc: 0.5297 - val_loss: 0.8938 - val_acc: 0.6719\n",
      "Epoch 4/25\n",
      "46/46 [==============================] - 7s 157ms/step - loss: 1.0275 - acc: 0.6063 - val_loss: 0.9456 - val_acc: 0.6109\n",
      "Epoch 5/25\n",
      "46/46 [==============================] - 7s 150ms/step - loss: 0.9213 - acc: 0.6391 - val_loss: 0.7630 - val_acc: 0.7078\n",
      "Epoch 6/25\n",
      "46/46 [==============================] - 7s 155ms/step - loss: 0.8275 - acc: 0.6910 - val_loss: 0.6164 - val_acc: 0.7609\n",
      "Epoch 7/25\n",
      "46/46 [==============================] - 7s 150ms/step - loss: 0.7519 - acc: 0.7259 - val_loss: 0.7154 - val_acc: 0.7063\n",
      "Epoch 8/25\n",
      "46/46 [==============================] - 7s 148ms/step - loss: 0.6653 - acc: 0.7560 - val_loss: 0.5071 - val_acc: 0.8031\n",
      "Epoch 9/25\n",
      "46/46 [==============================] - 7s 148ms/step - loss: 0.6134 - acc: 0.7711 - val_loss: 0.4553 - val_acc: 0.8266\n",
      "Epoch 10/25\n",
      "46/46 [==============================] - 7s 146ms/step - loss: 0.5746 - acc: 0.7834 - val_loss: 0.6392 - val_acc: 0.7563\n",
      "Epoch 11/25\n",
      "46/46 [==============================] - 8s 167ms/step - loss: 0.4879 - acc: 0.8284 - val_loss: 0.4704 - val_acc: 0.8266\n",
      "Epoch 12/25\n",
      "46/46 [==============================] - 7s 155ms/step - loss: 0.4390 - acc: 0.8435 - val_loss: 0.3559 - val_acc: 0.8578\n",
      "Epoch 13/25\n",
      "46/46 [==============================] - 7s 157ms/step - loss: 0.4009 - acc: 0.8578 - val_loss: 0.3091 - val_acc: 0.8781\n",
      "Epoch 14/25\n",
      "46/46 [==============================] - 8s 177ms/step - loss: 0.3603 - acc: 0.8667 - val_loss: 0.3357 - val_acc: 0.8828\n",
      "Epoch 15/25\n",
      "46/46 [==============================] - 7s 158ms/step - loss: 0.3870 - acc: 0.8681 - val_loss: 0.2840 - val_acc: 0.9016\n",
      "Epoch 16/25\n",
      "46/46 [==============================] - 7s 163ms/step - loss: 0.2926 - acc: 0.8947 - val_loss: 0.1820 - val_acc: 0.9344\n",
      "Epoch 17/25\n",
      "46/46 [==============================] - 8s 172ms/step - loss: 0.2586 - acc: 0.9084 - val_loss: 0.2487 - val_acc: 0.9047\n",
      "Epoch 18/25\n",
      "46/46 [==============================] - 8s 168ms/step - loss: 0.2455 - acc: 0.9246 - val_loss: 0.3417 - val_acc: 0.8484\n",
      "Epoch 19/25\n",
      "46/46 [==============================] - 9s 187ms/step - loss: 0.2042 - acc: 0.9347 - val_loss: 0.1479 - val_acc: 0.9516\n",
      "Epoch 20/25\n",
      "46/46 [==============================] - 8s 173ms/step - loss: 0.1913 - acc: 0.9375 - val_loss: 0.2001 - val_acc: 0.9266\n",
      "Epoch 21/25\n",
      "46/46 [==============================] - 8s 166ms/step - loss: 0.2150 - acc: 0.9237 - val_loss: 0.1247 - val_acc: 0.9578\n",
      "Epoch 22/25\n",
      "46/46 [==============================] - 8s 176ms/step - loss: 0.1363 - acc: 0.9556 - val_loss: 0.1864 - val_acc: 0.9312\n",
      "Epoch 23/25\n",
      "46/46 [==============================] - 8s 165ms/step - loss: 0.1439 - acc: 0.9524 - val_loss: 0.0658 - val_acc: 0.9781\n",
      "Epoch 24/25\n",
      "46/46 [==============================] - 8s 168ms/step - loss: 0.1638 - acc: 0.9388 - val_loss: 0.1392 - val_acc: 0.9469\n",
      "Epoch 25/25\n",
      "46/46 [==============================] - 8s 165ms/step - loss: 0.1329 - acc: 0.9558 - val_loss: 0.1353 - val_acc: 0.9453\n"
     ]
    },
    {
     "data": {
      "text/plain": [
       "<tensorflow.python.keras.callbacks.History at 0x1b28912e198>"
      ]
     },
     "execution_count": 18,
     "metadata": {},
     "output_type": "execute_result"
    }
   ],
   "source": [
    "model.fit_generator(x_train,steps_per_epoch = 46,epochs = 25,validation_data = x_test, validation_steps = 20)"
   ]
  },
  {
   "cell_type": "code",
   "execution_count": 19,
   "metadata": {},
   "outputs": [],
   "source": [
    "model.save(\"animal.h5\")"
   ]
  },
  {
   "cell_type": "code",
   "execution_count": null,
   "metadata": {},
   "outputs": [],
   "source": []
  }
 ],
 "metadata": {
  "kernelspec": {
   "display_name": "Python 3",
   "language": "python",
   "name": "python3"
  },
  "language_info": {
   "codemirror_mode": {
    "name": "ipython",
    "version": 3
   },
   "file_extension": ".py",
   "mimetype": "text/x-python",
   "name": "python",
   "nbconvert_exporter": "python",
   "pygments_lexer": "ipython3",
   "version": "3.7.3"
  }
 },
 "nbformat": 4,
 "nbformat_minor": 2
}
